{
 "cells": [
  {
   "cell_type": "code",
   "execution_count": 1,
   "metadata": {},
   "outputs": [],
   "source": [
    "import logging\n",
    "import math\n",
    "from dataclasses import dataclass, field\n",
    "from decimal import ROUND_DOWN, getcontext\n",
    "from fractions import Fraction\n",
    "from typing import Any, Optional\n",
    "\n",
    "import numpy as np\n",
    "import pandas as pd"
   ]
  },
  {
   "cell_type": "code",
   "execution_count": 8,
   "metadata": {},
   "outputs": [
    {
     "data": {
      "text/plain": [
       "array(['overvote', 'Buxton, Catherine A.', 'Chann, Marpheen S.',\n",
       "       'DiMillo, Steven A.', 'Sheikh-Yousef, Nasreen A.',\n",
       "       'Condrey, Lawson T.', 'undervote', 'Grant, Benjamin K.',\n",
       "       'Houseal, Ian P.', 'Bailey, William M.', 'Washburn, Patricia J.',\n",
       "       'Emerson, Anthony M.', 'Rovelto, Hope R.'], dtype=object)"
      ]
     },
     "execution_count": 8,
     "metadata": {},
     "output_type": "execute_result"
    }
   ],
   "source": [
    "\n",
    "cvrs = pd.read_excel(\"PCC 11.xlsx\", usecols=[0, *range(3, 14)], index_col=0)\n",
    "# guess candidates from all votes, since not given.\n",
    "candidates = list(set(cvrs.stack().unique()) - {'overvote', 'undervote', np.nan})"
   ]
  },
  {
   "cell_type": "code",
   "execution_count": 18,
   "metadata": {},
   "outputs": [
    {
     "data": {
      "text/plain": [
       "{'Bailey, William M.',\n",
       " 'Buxton, Catherine A.',\n",
       " 'Chann, Marpheen S.',\n",
       " 'Condrey, Lawson T.',\n",
       " 'DiMillo, Steven A.',\n",
       " 'Emerson, Anthony M.',\n",
       " 'Grant, Benjamin K.',\n",
       " 'Houseal, Ian P.',\n",
       " 'Rovelto, Hope R.',\n",
       " 'Sheikh-Yousef, Nasreen A.',\n",
       " 'Washburn, Patricia J.'}"
      ]
     },
     "execution_count": 18,
     "metadata": {},
     "output_type": "execute_result"
    }
   ],
   "source": [
    "\n"
   ]
  },
  {
   "cell_type": "code",
   "execution_count": 21,
   "metadata": {},
   "outputs": [
    {
     "data": {
      "text/plain": [
       "array(['overvote', 'undervote', 'Buxton, Catherine A.',\n",
       "       'Chann, Marpheen S.', 'Sheikh-Yousef, Nasreen A.',\n",
       "       'Emerson, Anthony M.', 'Washburn, Patricia J.',\n",
       "       'DiMillo, Steven A.', 'Condrey, Lawson T.', 'Grant, Benjamin K.',\n",
       "       'Bailey, William M.', 'Houseal, Ian P.', 'Rovelto, Hope R.'],\n",
       "      dtype=object)"
      ]
     },
     "execution_count": 21,
     "metadata": {},
     "output_type": "execute_result"
    }
   ],
   "source": [
    "candidates = set(cvrs.stack().unique()) - {'overvote', 'undervote', np.nan}"
   ]
  },
  {
   "cell_type": "code",
   "execution_count": 6,
   "metadata": {},
   "outputs": [
    {
     "data": {
      "text/plain": [
       "Cast Vote Record\n",
       "22       False\n",
       "23       False\n",
       "24       False\n",
       "25       False\n",
       "26       False\n",
       "         ...  \n",
       "20007    False\n",
       "20008    False\n",
       "20009    False\n",
       "20010    False\n",
       "20011    False\n",
       "Length: 9043, dtype: bool"
      ]
     },
     "execution_count": 6,
     "metadata": {},
     "output_type": "execute_result"
    }
   ],
   "source": [
    "is_exhausted = pd.Series(np.zeros(cvrs.index.size), index=cvrs.index, dtype=bool)\n",
    "is_exhausted"
   ]
  },
  {
   "cell_type": "code",
   "execution_count": null,
   "metadata": {},
   "outputs": [],
   "source": [
    "@dataclass\n",
    "class TabulationState:\n",
    "    rounds_completed: int\n",
    "    cvrs: pd.DataFrame\n",
    "    is_exhausted: pd.Series | None = None \n",
    "    vote_threshold: Any = None\n",
    "    vote_totals: pd.Series | None = None\n",
    "    winners: list[str] = field(default_factory=list)\n",
    "    losers: list[str] = field(default_factory=list)\n",
    "    transferHistory: list[pd.Series] = field(default_factory=list)\n",
    "\n",
    "\n",
    "@dataclass\n",
    "class TabulationRoundSummary:\n",
    "    round_number: int\n",
    "    vote_threshold: Any = None\n",
    "    vote_totals: pd.Series | None = None\n",
    "    winners: list[str] = field(default_factory=list)\n",
    "    losers: list[str] = field(default_factory=list)\n",
    "    transfers: Optional[pd.Series] = None\n",
    "\n",
    "    def to_dict(self):\n",
    "        return {\n",
    "            \"totals\": self.totals,\n",
    "            \"winners\": self.winners,\n",
    "            \"losers\": self.losers,\n",
    "            \"transfers\": {\n",
    "                winner: self.transfers[winner].to_dict()\n",
    "                for winner in self.transfers.labels[0]\n",
    "            },\n",
    "        }\n",
    "\n",
    "def calculate_threshold():\n",
    "    pass\n",
    "\n",
    "def tabulate(cvrs):\n",
    "    is_exhausted = pd.Series(np.zeros(cvrs.index.size), index=cvrs.index, dtype=bool)\n",
    "    cur_choice_i = pd.Series(np.zeros(cvrs.index.size), index=cvrs.index)\n",
    "\n",
    "\n",
    "\n",
    "def tabulate_round(tabulation, cvrs, is_exhausted, cur_choices):\n",
    "\n",
    "    self.rules.skip_to_next_eligible_rank(\n",
    "        tabulation.ballot_set, tabulation.winners + tabulation.losers\n",
    "    )\n",
    "\n",
    "    round = TabulationRound(1 + len(tabulation.rounds))\n",
    "\n",
    "    round.vote_threshold = calculate_threshold()\n",
    "    # round.vote_threshold = self.rules.threshold(tabulation)\n",
    "    round.vote_totals = tabulation.ballot_set.tally_votes()\n",
    "    round.winners = self.rules.select_winners(round)\n",
    "    if round.winners:\n",
    "        for winner in round.winners:\n",
    "            T = self.rules.T\n",
    "            excess_votes = round.vote_totals[winner] - round.vote_threshold\n",
    "            excess_vote_ratio = T(T(excess_votes) / T(round.vote_totals[winner]))\n",
    "            picked_winner = tabulation.ballot_set.cur_candidate == winner\n",
    "            vr = tabulation.ballot_set.vote_remaining\n",
    "            tabulation.ballot_set.df.loc[\n",
    "                picked_winner, \"vote_remaining\"\n",
    "            ] *= excess_vote_ratio\n",
    "\n",
    "        round.transfers = self.transfer_ballots(\n",
    "            tabulation.ballot_set,\n",
    "            round.winners,\n",
    "            ignore_candidates=tabulation.winners + tabulation.losers,\n",
    "        )\n",
    "    else:\n",
    "        round.losers = self.rules.select_losers(round)\n",
    "        round.transfers = self.transfer_ballots(\n",
    "            tabulation.ballot_set,\n",
    "            round.losers,\n",
    "            ignore_candidates=round.losers + tabulation.winners + tabulation.losers,\n",
    "        )\n",
    "    return round"
   ]
  },
  {
   "cell_type": "code",
   "execution_count": null,
   "metadata": {},
   "outputs": [],
   "source": []
  }
 ],
 "metadata": {
  "kernelspec": {
   "display_name": "Python 3",
   "language": "python",
   "name": "python3"
  },
  "language_info": {
   "codemirror_mode": {
    "name": "ipython",
    "version": 3
   },
   "file_extension": ".py",
   "mimetype": "text/x-python",
   "name": "python",
   "nbconvert_exporter": "python",
   "pygments_lexer": "ipython3",
   "version": "3.11.4"
  },
  "orig_nbformat": 4
 },
 "nbformat": 4,
 "nbformat_minor": 2
}
